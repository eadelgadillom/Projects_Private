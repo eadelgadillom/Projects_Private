{
 "cells": [
  {
   "cell_type": "markdown",
   "metadata": {},
   "source": [
    "## METODO 1"
   ]
  },
  {
   "cell_type": "code",
   "execution_count": null,
   "metadata": {},
   "outputs": [],
   "source": [
    "import cv2\n",
    "import numpy as np\n",
    "import matplotlib\n",
    "from matplotlib.pyplot import imshow\n",
    "from matplotlib import pyplot as plt\n",
    "\n",
    "# load image\n",
    "img = cv2.imread(\"soil_01_09_2024.jpeg\")\n",
    "# size of image\n",
    "np_img = np.asarray(img)\n",
    "#np_img"
   ]
  },
  {
   "cell_type": "code",
   "execution_count": null,
   "metadata": {},
   "outputs": [],
   "source": [
    "# define umbral\n",
    "umbral = 127\n",
    "# Bin image\n",
    "_, imgBin = cv2.threshold(img, umbral, 255, cv2.THRESH_BINARY)\n",
    "plt.figure(figsize=(3,3))\n",
    "plt.imshow(imgBin)\n",
    "plt.show()"
   ]
  },
  {
   "cell_type": "code",
   "execution_count": null,
   "metadata": {},
   "outputs": [],
   "source": [
    "# size of image\n",
    "np_bin = np.asarray(imgBin)\n",
    "np_bin.shape"
   ]
  },
  {
   "cell_type": "code",
   "execution_count": null,
   "metadata": {},
   "outputs": [],
   "source": [
    "img_y = np_bin.shape[0]\n",
    "img_x = np_bin.shape[1]\n",
    "img_z = np_bin.shape[2]\n",
    "\n",
    "grieta = 0\n",
    "suelo = 0\n",
    "line_image = np.copy(img) * 255\n",
    "\n",
    "for i in range(img_y):\n",
    "    for j in range(img_x):\n",
    "        for k in range(img_z):\n",
    "            if np_bin[i, j, k] == 0:\n",
    "                grieta += 1\n",
    "                line_image[i, j, k] == np_bin[i, j, k]\n",
    "            else:\n",
    "                suelo += 1"
   ]
  },
  {
   "cell_type": "code",
   "execution_count": null,
   "metadata": {},
   "outputs": [],
   "source": [
    "percentage = (grieta / suelo) * 100\n",
    "print(\"El porcentaje de grietas es de: {:.2f}\".format(percentage))\n",
    "plt.imshow(line_image)\n",
    "plt.show()"
   ]
  },
  {
   "cell_type": "markdown",
   "metadata": {},
   "source": [
    "## METODO 2"
   ]
  },
  {
   "cell_type": "code",
   "execution_count": null,
   "metadata": {},
   "outputs": [],
   "source": [
    "import cv2\n",
    "import numpy as np\n",
    "import matplotlib\n",
    "from matplotlib.pyplot import imshow\n",
    "from matplotlib import pyplot as plt\n",
    "\n",
    "# load image\n",
    "img_2 = cv2.imread(\"soil_01_09_2024.jpeg\")\n",
    "# Plot reduced 3x3 image\n",
    "plt.figure(figsize=(3, 3))\n",
    "plt.imshow(img_2)\n",
    "plt.show()"
   ]
  },
  {
   "cell_type": "code",
   "execution_count": null,
   "metadata": {},
   "outputs": [],
   "source": [
    "gray = cv2.cvtColor(img_2, cv2.COLOR_BGR2GRAY)\n",
    "kernel_size = 9\n",
    "blur_gray = cv2.GaussianBlur(gray, (kernel_size, kernel_size), 0)\n",
    "low_threshold = 50\n",
    "high_threshold = 150\n",
    "edges = cv2.Canny(blur_gray, low_threshold, high_threshold)\n",
    "plt.figure(figsize=(3, 3))\n",
    "plt.imshow(edges)\n",
    "plt.show()"
   ]
  },
  {
   "cell_type": "code",
   "execution_count": null,
   "metadata": {},
   "outputs": [],
   "source": [
    "rho = 1  # distance resolution in pixels of the Hough grid\n",
    "theta = np.pi / 180  # angular resolution in radians of the Hough grid\n",
    "threshold = 15  # minimum number of votes (intersections in Hough grid cell)\n",
    "min_line_length = 2  # minimum number of pixels making up a line\n",
    "max_line_gap = 2  # maximum gap in pixels between connectable line segments\n",
    "line_image_2 = np.copy(img) * 0  # creating a blank to draw lines on\n",
    "\n",
    "# Run Hough on edge detected image\n",
    "# Output \"lines\" is an array containing endpoints of detected line segments\n",
    "lines = cv2.HoughLinesP(edges, rho, theta, threshold, np.array([]),\n",
    "                    min_line_length, max_line_gap)\n",
    "\n",
    "for line in lines:\n",
    "    for x1,y1,x2,y2 in line:\n",
    "        cv2.line(line_image_2,(x1,y1),(x2,y2),(255,0,0),5)"
   ]
  },
  {
   "cell_type": "code",
   "execution_count": null,
   "metadata": {},
   "outputs": [],
   "source": [
    "# Draw the lines on the  image\n",
    "lines_edges = cv2.addWeighted(img_2, 0, line_image_2, 0, 0)\n",
    "#lines_edges = cv2.addWeighted(img_2, 0.8, line_image_2, 1, 0)\n",
    "plt.imshow(lines_edges)\n",
    "plt.show()"
   ]
  },
  {
   "cell_type": "code",
   "execution_count": null,
   "metadata": {},
   "outputs": [],
   "source": [
    "np_edges = np.asarray(lines_edges)\n",
    "np_edges.shape"
   ]
  },
  {
   "cell_type": "code",
   "execution_count": null,
   "metadata": {},
   "outputs": [],
   "source": [
    "edges_y = np_edges.shape[0]\n",
    "edges_x = np_edges.shape[1]\n",
    "edges_z = np_edges.shape[2]\n",
    "\n",
    "grieta_ed = 0\n",
    "suelo_ed = 0\n",
    "\n",
    "for i in range(edges_y):\n",
    "    for j in range(edges_x):\n",
    "        for k in range(edges_z):\n",
    "            if np_bin[i, j, k] != 0:\n",
    "                grieta_ed += 1\n",
    "            else:\n",
    "                suelo_ed += 1"
   ]
  },
  {
   "cell_type": "code",
   "execution_count": null,
   "metadata": {},
   "outputs": [],
   "source": [
    "grieta_ed"
   ]
  },
  {
   "cell_type": "code",
   "execution_count": null,
   "metadata": {},
   "outputs": [],
   "source": [
    "suelo_ed"
   ]
  },
  {
   "cell_type": "code",
   "execution_count": null,
   "metadata": {},
   "outputs": [],
   "source": [
    "percentage_ed = (grieta_ed / suelo_ed) * 100\n",
    "print(\"El porcentaje de grietas es de: {:.2f}\".format(percentage_ed))"
   ]
  }
 ],
 "metadata": {
  "kernelspec": {
   "display_name": "Python 3",
   "language": "python",
   "name": "python3"
  },
  "language_info": {
   "codemirror_mode": {
    "name": "ipython",
    "version": 3
   },
   "file_extension": ".py",
   "mimetype": "text/x-python",
   "name": "python",
   "nbconvert_exporter": "python",
   "pygments_lexer": "ipython3",
   "version": "3.12.1"
  }
 },
 "nbformat": 4,
 "nbformat_minor": 2
}
