{
 "cells": [
  {
   "cell_type": "code",
   "execution_count": 5,
   "metadata": {},
   "outputs": [],
   "source": [
    "import cv2\n",
    "from astropy.io import fits\n",
    "from glob import glob\n",
    "import os\n",
    "import numpy as np\n",
    "\n",
    "# Ruta de la carpeta con los archivos FITS\n",
    "folder_fits = (\n",
    "    r\"C:\\Users\\eduar\\OneDrive\\Escritorio\\SharpCap Captures\\2024-03-15\\Moon\\19_31_03\"\n",
    ")\n",
    "\n",
    "# Obtener la lista de archivos FITS en la carpeta\n",
    "fits_files = glob(os.path.join(folder_fits, \"*.fits\"))\n",
    "\n",
    "# Variables para el video\n",
    "video = None\n",
    "height, width = None, None\n",
    "\n",
    "# Iterar sobre cada archivo FITS\n",
    "for fits_file in fits_files:\n",
    "    # Abrir el archivo FITS\n",
    "    hdul = fits.open(fits_file)\n",
    "\n",
    "    # Obtener los datos de la imagen FITS\n",
    "    fits_data = hdul[0].data.T\n",
    "\n",
    "    # Escalar los valores de píxeles a 0-255\n",
    "    fits_data = (\n",
    "        (fits_data - np.min(fits_data)) / (np.max(fits_data) - np.min(fits_data)) * 255\n",
    "    )\n",
    "\n",
    "    # Convertir la imagen FITS a formato de imagen OpenCV (uint8)\n",
    "    fits_data_uint8 = np.uint8(fits_data)\n",
    "\n",
    "    # Obtener las dimensiones de la imagen\n",
    "    height, width = fits_data_uint8.shape\n",
    "\n",
    "    # Inicializar el video una vez que se obtengan las dimensiones\n",
    "    if video is None:\n",
    "        video = cv2.VideoWriter(\n",
    "            \"Moon_51.mp4\", cv2.VideoWriter_fourcc(*\"DIVX\"), 4, (width, height)\n",
    "        )\n",
    "\n",
    "    # Añadir la imagen al video\n",
    "    video.write(cv2.cvtColor(fits_data_uint8, cv2.COLOR_GRAY2BGR))\n",
    "\n",
    "# Liberar el objeto VideoWriter\n",
    "if video is not None:\n",
    "    video.release()"
   ]
  }
 ],
 "metadata": {
  "kernelspec": {
   "display_name": "Python 3",
   "language": "python",
   "name": "python3"
  },
  "language_info": {
   "codemirror_mode": {
    "name": "ipython",
    "version": 3
   },
   "file_extension": ".py",
   "mimetype": "text/x-python",
   "name": "python",
   "nbconvert_exporter": "python",
   "pygments_lexer": "ipython3",
   "version": "3.12.2"
  }
 },
 "nbformat": 4,
 "nbformat_minor": 2
}
