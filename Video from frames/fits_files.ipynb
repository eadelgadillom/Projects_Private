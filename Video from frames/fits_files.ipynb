{
 "cells": [
  {
   "cell_type": "code",
   "execution_count": null,
   "metadata": {},
   "outputs": [],
   "source": [
    "import cv2\n",
    "from astropy.io import fits\n",
    "from glob import glob\n",
    "import numpy as np\n",
    "import os\n",
    "\n",
    "# Ruta de la carpeta con los archivos FITS\n",
    "folder_fits = r\"C:\\Users\\eduar\\OneDrive\\Escritorio\\SharpCap Captures\\2024-03-11\\M42\\21_33_25\"\n",
    "\n",
    "# Obtener la lista de archivos FITS en la carpeta\n",
    "fits_files = glob(os.path.join(folder_fits, \"*.fits\"))\n",
    "\n",
    "# Variables para el video\n",
    "video = None\n",
    "height, width = None, None\n",
    "\n",
    "# Iterar sobre cada archivo FITS\n",
    "for fits_file in fits_files:\n",
    "    # Abrir el archivo FITS\n",
    "    hdul = fits.open(fits_file)\n",
    "\n",
    "    # Obtener los datos de la imagen FITS\n",
    "    fits_data = hdul[0].data.T\n",
    "\n",
    "    # Escalar los valores de píxeles a 0-255\n",
    "    fits_data = (\n",
    "        (fits_data - np.min(fits_data)) / (np.max(fits_data) - np.min(fits_data)) * 255\n",
    "    )\n",
    "\n",
    "    # Convertir la imagen FITS a formato de imagen OpenCV (uint8)\n",
    "    fits_data_uint8 = np.uint8(fits_data)\n",
    "\n",
    "    # Obtener las dimensiones de la imagen\n",
    "    height, width = fits_data_uint8.shape\n",
    "\n",
    "    # Inicializar el video una vez que se obtengan las dimensiones\n",
    "    if video is None:\n",
    "        video = cv2.VideoWriter(\n",
    "            \"M42_Prueba.avi\", cv2.VideoWriter_fourcc(*\"DIVX\"), 4, (width, height))\n",
    "\n",
    "    # Añadir la imagen al video\n",
    "    video.write(fits_data_uint8)\n",
    "\n",
    "# Liberar el objeto VideoWriter\n",
    "if video is not None:\n",
    "    video.release()"
   ]
  }
 ],
 "metadata": {
  "kernelspec": {
   "display_name": "Python 3",
   "language": "python",
   "name": "python3"
  },
  "language_info": {
   "name": "python",
   "version": "3.12.2"
  }
 },
 "nbformat": 4,
 "nbformat_minor": 2
}
