{
 "cells": [
  {
   "cell_type": "code",
   "execution_count": 1,
   "metadata": {},
   "outputs": [
    {
     "name": "stderr",
     "output_type": "stream",
     "text": [
      "C:\\Users\\eduar\\AppData\\Local\\Temp\\ipykernel_21376\\952280794.py:1: DeprecationWarning: \n",
      "Pyarrow will become a required dependency of pandas in the next major release of pandas (pandas 3.0),\n",
      "(to allow more performant data types, such as the Arrow string type, and better interoperability with other libraries)\n",
      "but was not found to be installed on your system.\n",
      "If this would cause problems for you,\n",
      "please provide us feedback at https://github.com/pandas-dev/pandas/issues/54466\n",
      "        \n",
      "  import pandas as pd\n"
     ]
    }
   ],
   "source": [
    "import pandas as pd\n",
    "import numpy as np\n",
    "\n",
    "tabla_or = pd.read_csv(\"Vias_Risk_points.csv\")\n",
    "ID_2 = tabla_or[\"ID_2\"].unique()\n",
    "ID_2_nan = ID_2[~np.isnan(ID_2)]\n",
    "tabla_final = pd.DataFrame()\n",
    "for i in ID_2_nan:\n",
    "    tabla_temp = tabla_or[tabla_or[\"ID_2\"] == i]\n",
    "    suma_temp = np.sum(tabla_temp[\"LS_B_A\"])\n",
    "    # agregar mas sumas\n",
    "    # suma_temp = np.sum(tabla_temp[\"LS_B_A\"])\n",
    "    tabla_final.loc[i, \"ID\"] = i\n",
    "    tabla_final.loc[i, \"SUM_LS_B_A\"] = suma_temp\n",
    "    # tabla_final.loc[i, \"SUM_LS_B_A\"] = suma_temp\n",
    "tabla_final.to_csv(\"tabla_sum.csv\", index=False)"
   ]
  }
 ],
 "metadata": {
  "kernelspec": {
   "display_name": "Python 3",
   "language": "python",
   "name": "python3"
  },
  "language_info": {
   "codemirror_mode": {
    "name": "ipython",
    "version": 3
   },
   "file_extension": ".py",
   "mimetype": "text/x-python",
   "name": "python",
   "nbconvert_exporter": "python",
   "pygments_lexer": "ipython3",
   "version": "3.12.1"
  }
 },
 "nbformat": 4,
 "nbformat_minor": 2
}
